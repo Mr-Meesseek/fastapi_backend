{
 "cells": [
  {
   "cell_type": "markdown",
   "metadata": {},
   "source": [
    "<h1>5edma s7i7a tabda mena </h1>"
   ]
  },
  {
   "cell_type": "markdown",
   "metadata": {},
   "source": [
    "<h3>lenna 7ot variables mta3k </h3>"
   ]
  },
  {
   "cell_type": "code",
   "execution_count": 10,
   "metadata": {},
   "outputs": [],
   "source": [
    "example_text = \"Ena louay 59 ans nhb 3la 9aredh saken bech n3ares ne5dem mais lproblem mazelt mtrasmtch kifh 9oulouli\""
   ]
  },
  {
   "cell_type": "code",
   "execution_count": 11,
   "metadata": {},
   "outputs": [
    {
     "data": {
      "text/plain": [
       "'ena lوay 59 ans nhb 3la 9areض saken beش n3ares ne5dem mais lproblem mazelt mtrasmtش kifh 9وlوli'"
      ]
     },
     "execution_count": 11,
     "metadata": {},
     "output_type": "execute_result"
    }
   ],
   "source": [
    "phonetic_doublelettre = {'ch': 'ش','sh':'ش', 'dh': 'ض','ou':'و'}\n",
    "def normalize1_text(text):\n",
    "    \"\"\"\n",
    "    Normalise le texte en remplaçant certains chiffres par des caractères arabes phonétiques.\n",
    "    \"\"\"\n",
    "    for num, char in phonetic_doublelettre.items():\n",
    "        text = text.replace(num, char)\n",
    "    return text.lower()\n",
    "normalize1_text(example_text)"
   ]
  },
  {
   "cell_type": "code",
   "execution_count": 12,
   "metadata": {},
   "outputs": [
    {
     "data": {
      "text/plain": [
       "'eنا لواي 59 انس نهب 3لا 9ارده ساكن بسه ن3ارس ن5دم مايس لبربلم مازلت متراسمتسه كيفه 9ولولي'"
      ]
     },
     "execution_count": 12,
     "metadata": {},
     "output_type": "execute_result"
    }
   ],
   "source": [
    "phonetic_numbers = {'3': 'ع','5':'خ', '9': 'ق','7':'ح','a':'ا','i':'ي','b':'ب','c':'س','d':'د','f':'ف','j':'ج','k':'ك','l':'ل','m':'م','n':'ن','r':'ر','s':'س','t':'ت','w':'و','y':'ي','z':'ز','h':'ه','g':'غ','p':'ب','q':'ك','v':'ف','u':'و','o':'','e':'','é':'ي','è':'ي','ê':'ي','à':'ا','â':'ا','û':'و','ù':'و','ü':'و'}\n",
    "\n",
    "def normalize2_text(text):\n",
    "    \"\"\"\n",
    "    Normalizes the text by replacing certain phonetic numbers with Arabic characters.\n",
    "    \"\"\"\n",
    "    for num, char in phonetic_numbers.items():\n",
    "        if not(num.isdigit()):\n",
    "            text = text.replace(num, char)\n",
    "    return text.lower()\n",
    "normalize2_text(example_text)"
   ]
  },
  {
   "cell_type": "code",
   "execution_count": 13,
   "metadata": {},
   "outputs": [],
   "source": [
    "ar9am={'3': 'ع','5':'خ', '9': 'ق','7':'ح'}\n",
    "def normalize3_text(text):\n",
    "    \"\"\"\n",
    "    Normalizes the text by replacing numbers with Arabic characters if they are near an Arabic character.\n",
    "    \"\"\"\n",
    "    normalized_text = \"\"\n",
    "    is_arabic = False\n",
    "    \n",
    "    for i, char in enumerate(text):\n",
    "        if char.isdigit():\n",
    "            if i > 0 and text[i-1].isalpha():\n",
    "                normalized_text += ar9am.get(char, char)\n",
    "            elif i < len(text)-1 and text[i+1].isalpha():\n",
    "                normalized_text += ar9am.get(char, char)\n",
    "            else:\n",
    "                normalized_text += char\n",
    "        else:\n",
    "            normalized_text += char\n",
    "        if char.isalpha():\n",
    "            is_arabic = True\n",
    "        else:\n",
    "            is_arabic = False\n",
    "    \n",
    "    return normalized_text.lower()\n"
   ]
  },
  {
   "cell_type": "code",
   "execution_count": 14,
   "metadata": {},
   "outputs": [
    {
     "data": {
      "text/plain": [
       "'ena louay 59 ans nhb عla قaredh saken bech nعares neخdem mais lproblem mazelt mtrasmtch kifh قoulouli'"
      ]
     },
     "execution_count": 14,
     "metadata": {},
     "output_type": "execute_result"
    }
   ],
   "source": [
    "normalize3_text(example_text)"
   ]
  },
  {
   "cell_type": "markdown",
   "metadata": {},
   "source": [
    "<h3>hedhi function eli tbdael francias carcters lel arbi  </h3>"
   ]
  },
  {
   "cell_type": "code",
   "execution_count": 15,
   "metadata": {},
   "outputs": [
    {
     "data": {
      "text/plain": [
       "'نا لواي 59 انس نهب علا قارض ساكن بش نعارس نخدم مايس لبربلم مازلت متراسمتش كيفه قولولي'"
      ]
     },
     "execution_count": 15,
     "metadata": {},
     "output_type": "execute_result"
    }
   ],
   "source": [
    "def preproc_txt(text):\n",
    "    text = normalize1_text(text)\n",
    "    text = normalize3_text(text)\n",
    "    text = normalize2_text(text)\n",
    "    return text\n",
    "preproc_txt(example_text)"
   ]
  },
  {
   "cell_type": "code",
   "execution_count": 16,
   "metadata": {},
   "outputs": [
    {
     "data": {
      "text/plain": [
       "'يسؤسي'"
      ]
     },
     "execution_count": 16,
     "metadata": {},
     "output_type": "execute_result"
    }
   ],
   "source": [
    "user_input = input(\"Enter a text: \")\n",
    "preproc_txt(user_input)\n"
   ]
  },
  {
   "cell_type": "code",
   "execution_count": 1,
   "metadata": {},
   "outputs": [
    {
     "name": "stdout",
     "output_type": "stream",
     "text": [
      "['تعيش', 'في', 'قرون', 'وسطى', 'مازالت', 'لتوة', 'مستهلك', 'مجحفة', 'الأداء', 'أداء', 'تمبك', 'مأساة', 'انها', 'مؤسسة', 'تقدم', 'خدمات', 'مجال', 'يوفى', 'مسلسل', 'ماسط', 'بعد', 'ما', 'وفات', 'كان', 'تهنينا', 'عملو', 'دورة', 'تفرهيدة', 'افريقيا', 'خذاو', 'الزوز', 'صوردي', 'صحيفة', 'شروق', 'ليوم', 'خميس', 'ان', 'مجلس', 'نواب', 'قام', 'مصادقة', 'مشاريع', 'قوانين', 'تخص', 'خاصة', 'حج', 'من', 'ظاهرة', 'موازي', 'تونس', 'صادق', 'مؤخرا', 'عدد', 'جديدة', 'ومن', 'التي', 'تمت', 'إلى', 'بيت', 'الله', 'حرام', 'العمرة', 'فصل', 'جديد', 'كل', 'تونسي', 'يرغب', 'أو', 'فيحضرو', 'كرذونة', 'تصاور', 'ياتي', 'يشريو', 'يقدر', 'عليه', 'تنابر', 'جبائية', 'يصلح', 'زوز', 'ثم', 'بسبور', 'التوالي', 'باسبور', 'غلبت', 'ذل', 'صار', 'يملك', 'امرهم', 'شيئا', 'يردون', 'إنها', 'حال', 'السلطان', 'غضب', 'اعلم', 'فاش', 'شرب', 'ملا', 'حالة', 'حاكم', 'يحب', 'عليا', 'يدبر', 'راس', 'وحدو', 'حالف', 'تقول', 'حاجة', 'تصلح', 'صباح', 'مستغني', 'طاسة', 'مصدة', 'بيها', 'روحك', 'يقوم', 'يمشي', 'حد', 'حكاية', 'مرض', 'يموت', 'كيف', 'يقولولو', 'يفرح', 'يعيطولو', 'سوبرمان', 'فهو', 'فوق', 'رمال', 'الشط', 'جابتك', 'خاطرك', 'بيع', 'منقالة', 'غير', 'خلوة', 'نصوتلك', 'موش', 'راجل', 'يتبعها', 'أولهم', 'راجلها', 'كلينتون', 'يبدو', 'اهتمام', 'وجه', 'ينسى', 'حديث', 'شمس', 'يولي', 'سلطان', 'فكرني', 'نعمل', 'بند', 'دستور', 'مملكة', 'هاذي', 'رأس', 'قبل', 'عاش', 'بطالة', 'عدى', 'سنوات', 'خاطر', 'واجب', 'وطني', 'كيما', 'عسكري', 'أهم', 'عناصر', 'صالحة', 'مجتمع', 'هذكا', 'علاش', 'توجه', 'عام', 'يشجع', 'تعاطي', 'الشباب', 'شاب', 'اقبال', 'عليها', 'ايجابي', 'خير', 'مجموعة', 'وطنية', 'ككل', 'هاو', 'باش', 'نحكيلكم', 'صاحب', 'هذه', 'مدونة', 'كيفاش', 'تجربة', 'سي', 'ههههه', 'تحول', 'نجم', 'طيح', 'عمارة', 'برنامج', 'مسابقات', 'يعطي', 'فائز', 'شكارة', 'خبز', 'حصيلو', 'عين', 'تحلت', 'دنيا', 'فترة', 'فاق', 'برشة', 'حاجات', 'اكتشف', 'بنتها', 'زميلة', 'تستدعي', 'سهرية', 'عائلية', 'تعرف', 'أمو', 'تحب', 'زعمة', 'تفرح', 'كبير', 'يصبح', 'غلط', 'يعلق', 'كلها', 'نصيحة', 'مجرب', 'مستحسن', 'انو', 'واحد', 'يستفيد', 'دروس', 'مانيش', 'ندعو', 'تحرك', 'احتجاج', 'اوضاع', 'لانو', 'ديما', 'حل', 'ملائم', 'هو', 'طالما', 'طريقي', 'ناخذ', 'كارطة', 'مرة', 'وحدة', 'نسلم', 'صديق', 'يخدم', 'غادي', 'متقاعد', 'وظيفة', 'عمومية', 'تجمعني', 'بيه', 'صداقة', 'احترام', 'مودة', 'حكايات', 'عندي', 'ريتوش', 'نلقى', 'مشهد', 'عقاب', 'اخرى', 'تشكر', 'فيها', 'والديها', 'تقلها', 'باهيشي', 'راك', 'اختي', 'مزية', 'خزر', 'وقت', 'ضيق', 'رحمة', 'خرجوا', 'هدرة', 'قاللي', 'وليدي', 'لطف', 'بين', 'يبقي', 'علينا', 'ستر', 'يلزم', 'نقنع', 'أمي', 'وافق', 'نطلبها', 'قلها', 'راني', 'فلانة', 'صاحبة', 'بنتك', 'اهي', 'بحذا', 'مثلوا', 'مسرحية', 'أم', 'وافقت', 'سلمت', 'مصير', 'تليفون', 'الاخرى', 'تكسيفون', 'الآخر', 'انا', 'القليلة', 'دبر', 'راسي', 'الغفلة', 'ابكي', 'تاخذ', 'بنات', 'طقس', 'عباد', 'نحبش', 'نتصبح', 'طلعتها', 'خذيته', 'قعد', 'كنتوار', 'نقرا', 'نسخة', 'مجانية', 'جريدة', 'نسخ', 'نهار', 'دور', 'تدور', 'حرفاء', 'مهم', 'قهيوة', 'منهم', 'عبد', 'لله', 'هدية', 'شبيك', 'اشبيك', 'انتي', 'حاصيلو', 'لهجة', 'بدأ', 'تطيح', 'قدر', 'ليلة', 'بيضاء', 'يحتمل', 'اعصاب', 'بدات', 'تفلت', 'يلوج', 'اول', 'شخص', 'اولاد', 'حلال', 'تم', 'تطويق', 'ازمة', 'طريقة', 'جامعة', 'عربية', 'خرج', 'هاك', 'عساس', 'قعدت', 'نخمم', 'لصق', 'زيد', 'ظروف', 'ارهاب', 'ارتفاع', 'اسعار', 'بترول', 'الابجدية', 'امل', 'ادماج', 'ترسيم', 'اقل', 'اعطاء', 'حقهم', 'فلوس', 'تأمين', 'كونجيات', 'فما', 'ندعيلو', 'فرج', 'ابركها', 'يعملش', 'عملية', 'انتحارية', 'الملأ', 'يوقف', 'شارع', 'يصيح', 'كلاة', 'اكتشفت', 'نوع', 'آخر', 'لامبالاة', 'اخطر', 'فيه', 'مغالطة', 'تزييف', 'احداث', 'وقائع', 'مواقع', 'تنجمي', 'تصير', 'اي', 'عندنا', 'تقص', 'الضو', 'خلصوش', 'عندهمش', 'يخلص', 'طامبك', 'التمنيك', 'بلادة', 'فمة', 'شوية', 'عتاب', 'هما', 'صحيح', 'يستاهل', 'اما', 'باهي', 'حالش', 'فيهم', 'فم', 'يقول', 'صليو', 'النبي', 'راهو', 'يجيش', 'ناس', 'عيب', 'ويني', 'لغة', 'المضروبة', 'اختصاص', 'يدجل', 'الخلق', 'سيدي', 'منكم', 'مأيسين', 'مستحيل', 'نطالبوكم', 'يعملو', 'يشري', 'نحب نشري', 'باش نشري', 'قداش الثمن؟', 'بكم؟', 'خصم', 'نلوج على', 'صبّاط', 'ساعَة', 'قميص', 'شيما', 'تنورة', 'جيبة', 'جينز', 'سروال', 'أكبر من', 'أصغر من', 'يساوي', 'أبيض', 'أسود', 'أحمر', 'أخضر', 'أزرق', 'أصفر', 'بني', 'رمادي']\n"
     ]
    }
   ],
   "source": [
    "import json\n",
    "# Read the contents of the file\n",
    "with open('af.txt', 'r') as file:\n",
    "    contents = file.read()\n",
    "\n",
    "# Parse the JSON data\n",
    "data = json.loads(contents)\n",
    "\n",
    "# Create the arabic_words list\n",
    "arabic_words = list(data.keys())\n",
    "\n",
    "print(arabic_words)\n"
   ]
  },
  {
   "cell_type": "code",
   "execution_count": 2,
   "metadata": {},
   "outputs": [
    {
     "name": "stdout",
     "output_type": "stream",
     "text": [
      "The closest word to 'sd' is 'في' which means 'Dans' in French.\n"
     ]
    }
   ],
   "source": [
    "import json\n",
    "import unicodedata\n",
    "import Levenshtein\n",
    "from collections import Counter\n",
    "\n",
    "# Load the JSON file\n",
    "with open('B:/XmallPythonCode/AF.json', 'r', encoding='utf-8') as file:\n",
    "    arabic_words = json.load(file)\n",
    "\n",
    "# Normalize function to remove diacritics\n",
    "def normalize_text(text):\n",
    "    text = unicodedata.normalize('NFD', text)\n",
    "    text = ''.join([c for c in text if unicodedata.category(c) != 'Mn'])\n",
    "    return text\n",
    "\n",
    "# Jaccard similarity function\n",
    "def jaccard_similarity(str1, str2):\n",
    "    a = set(str1)\n",
    "    b = set(str2)\n",
    "    intersection = len(a.intersection(b))\n",
    "    union = len(a.union(b))\n",
    "    return intersection / union\n",
    "\n",
    "# Function to find the closest word\n",
    "def find_closest_word(user_input, words):\n",
    "    user_input = normalize_text(user_input)\n",
    "    closest_word = None\n",
    "    min_distance = float('inf')\n",
    "    max_similarity = 0\n",
    "    best_score = float('inf')\n",
    "\n",
    "    for word, translation in words.items():\n",
    "        normalized_word = normalize_text(word)\n",
    "        levenshtein_distance = Levenshtein.distance(user_input, normalized_word)\n",
    "        jaccard_sim = jaccard_similarity(user_input, normalized_word)\n",
    "\n",
    "        # Weighted average: you can adjust the weights as needed\n",
    "        score = levenshtein_distance * 0.5 + (1 - jaccard_sim) * 0.5\n",
    "\n",
    "        if score < best_score:\n",
    "            best_score = score\n",
    "            closest_word = (word, translation)\n",
    "\n",
    "    return closest_word\n",
    "\n",
    "# Example usage\n",
    "user_input = input(\"Please enter a word in Tunisian Arabic: \")\n",
    "closest_word = find_closest_word(user_input, arabic_words)\n",
    "\n",
    "if closest_word:\n",
    "    print(f\"The closest word to '{user_input}' is '{closest_word[0]}' which means '{closest_word[1]}' in French.\")\n",
    "else:\n",
    "    print(f\"No close match found for '{user_input}'.\")\n"
   ]
  }
 ],
 "metadata": {
  "kernelspec": {
   "display_name": "Python 3",
   "language": "python",
   "name": "python3"
  },
  "language_info": {
   "codemirror_mode": {
    "name": "ipython",
    "version": 3
   },
   "file_extension": ".py",
   "mimetype": "text/x-python",
   "name": "python",
   "nbconvert_exporter": "python",
   "pygments_lexer": "ipython3",
   "version": "3.11.5"
  }
 },
 "nbformat": 4,
 "nbformat_minor": 2
}
